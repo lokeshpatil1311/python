{
 "cells": [
  {
   "cell_type": "markdown",
   "id": "b143714c",
   "metadata": {},
   "source": [
    "## Simple if"
   ]
  },
  {
   "cell_type": "code",
   "execution_count": 2,
   "id": "007e8594",
   "metadata": {},
   "outputs": [
    {
     "name": "stdout",
     "output_type": "stream",
     "text": [
      "enter age :20\n",
      "can vote\n"
     ]
    }
   ],
   "source": [
    "age=int(input(\"enter age :\"))\n",
    "if age>=18:\n",
    "    print(\"can vote\")\n"
   ]
  },
  {
   "cell_type": "markdown",
   "id": "eb736a3a",
   "metadata": {},
   "source": [
    "# If-else statement"
   ]
  },
  {
   "cell_type": "markdown",
   "id": "94458cca",
   "metadata": {},
   "source": [
    "### 1. Even and odd no. checker"
   ]
  },
  {
   "cell_type": "code",
   "execution_count": 5,
   "id": "39a1fd80",
   "metadata": {},
   "outputs": [
    {
     "name": "stdout",
     "output_type": "stream",
     "text": [
      "Enter a number: 42\n",
      "42 is an even number.\n"
     ]
    }
   ],
   "source": [
    "#even no.\n",
    "num = int(input(\"Enter a number: \"))\n",
    "\n",
    "if num % 2 == 0:\n",
    "    print(num,\"is an even number.\")\n",
    "else:\n",
    "    print(num,\" is an odd number.\")\n"
   ]
  },
  {
   "cell_type": "code",
   "execution_count": 17,
   "id": "59a6793d",
   "metadata": {},
   "outputs": [
    {
     "name": "stdout",
     "output_type": "stream",
     "text": [
      "Enter a number: 555\n",
      "555 is an odd number.\n"
     ]
    }
   ],
   "source": [
    "#odd no.\n",
    "num = int(input(\"Enter a number: \"))\n",
    "\n",
    "if num % 2 != 0:\n",
    "    print(num,\"is an odd number.\")\n",
    "else:\n",
    "    print(num,\" is an even number.\")\n"
   ]
  },
  {
   "cell_type": "markdown",
   "id": "e703b533",
   "metadata": {},
   "source": [
    "### 2.check Age for voting"
   ]
  },
  {
   "cell_type": "code",
   "execution_count": 3,
   "id": "d2d606ee",
   "metadata": {},
   "outputs": [
    {
     "name": "stdout",
     "output_type": "stream",
     "text": [
      "Enter age: 7\n",
      "You are not eligible\n"
     ]
    }
   ],
   "source": [
    "a=int(input(\"Enter age: \"))\n",
    "if a>=18:\n",
    "    print(\"you can vote\")\n",
    "else:\n",
    "    print(\"You are not eligible\")\n"
   ]
  },
  {
   "cell_type": "markdown",
   "id": "7c2bf79d",
   "metadata": {},
   "source": [
    "### 3. larger of two numbers"
   ]
  },
  {
   "cell_type": "code",
   "execution_count": 6,
   "id": "81f79c5d",
   "metadata": {},
   "outputs": [
    {
     "name": "stdout",
     "output_type": "stream",
     "text": [
      "Enter the first number: 45\n",
      "Enter the second number: 46\n",
      "The larger number is: 46.0\n"
     ]
    }
   ],
   "source": [
    "num1 = float(input(\"Enter the first number: \"))\n",
    "num2 = float(input(\"Enter the second number: \"))\n",
    "\n",
    "if num1 > num2:\n",
    "    print(\"The larger number is:\", num1)\n",
    "else:\n",
    "    print(\"The larger number is:\", num2)\n"
   ]
  },
  {
   "cell_type": "markdown",
   "id": "de328349",
   "metadata": {},
   "source": [
    "### 4. smaller of two numbers"
   ]
  },
  {
   "cell_type": "code",
   "execution_count": 10,
   "id": "9baf284d",
   "metadata": {},
   "outputs": [
    {
     "name": "stdout",
     "output_type": "stream",
     "text": [
      "Enter the first number: 5\n",
      "Enter the second number: 2\n",
      "The smaller number is: 2.0\n"
     ]
    }
   ],
   "source": [
    "num1 = float(input(\"Enter the first number: \"))\n",
    "num2 = float(input(\"Enter the second number: \"))\n",
    "\n",
    "if num1 < num2:\n",
    "    print(\"The smaller number is:\", num1)\n",
    "else:\n",
    "    print(\"The smaller number is:\", num2)\n"
   ]
  },
  {
   "cell_type": "markdown",
   "id": "4cbd173c",
   "metadata": {},
   "source": [
    "### 5.write program to find minimum of three numberes"
   ]
  },
  {
   "cell_type": "markdown",
   "id": "25642724",
   "metadata": {},
   "source": [
    "### 6. Pass or Fail"
   ]
  },
  {
   "cell_type": "code",
   "execution_count": 2,
   "id": "a9c100f2",
   "metadata": {},
   "outputs": [
    {
     "name": "stdout",
     "output_type": "stream",
     "text": [
      "Enter the student's score: 8\n",
      "Fail\n"
     ]
    }
   ],
   "source": [
    "score = float(input(\"Enter the student's score: \"))\n",
    "\n",
    "if score >= 50:\n",
    "    print(\"Pass\")\n",
    "else:\n",
    "    print(\"Fail\")\n"
   ]
  },
  {
   "cell_type": "markdown",
   "id": "623c68d2",
   "metadata": {},
   "source": [
    "### 7.Leap year checker"
   ]
  },
  {
   "cell_type": "markdown",
   "id": "2d7683fe",
   "metadata": {},
   "source": [
    "A leap year is a year that contains an extra day, February 29\n",
    "\n",
    "The rules for determining whether a year is a leap year are as follows:\n",
    "\n",
    "- If a year is evenly divisible by 4, it is a leap year, except for:\n",
    "- Years that are evenly divisible by 100 are not leap years, unless:\n",
    "- Years that are evenly divisible by 400 are leap years."
   ]
  },
  {
   "cell_type": "code",
   "execution_count": 14,
   "id": "b16d784d",
   "metadata": {
    "scrolled": true
   },
   "outputs": [
    {
     "name": "stdout",
     "output_type": "stream",
     "text": [
      "Enter a year: 1700\n",
      "Not a Leap Year\n"
     ]
    }
   ],
   "source": [
    "year = int(input(\"Enter a year: \"))\n",
    "\n",
    "if (year % 4 == 0 and year % 100 != 0) or (year % 400 == 0):\n",
    "    print(\"Leap Year\")\n",
    "else:\n",
    "    print(\"Not a Leap Year\")\n"
   ]
  },
  {
   "cell_type": "code",
   "execution_count": 13,
   "id": "3682079c",
   "metadata": {},
   "outputs": [
    {
     "data": {
      "text/plain": [
       "100"
      ]
     },
     "execution_count": 13,
     "metadata": {},
     "output_type": "execute_result"
    }
   ],
   "source": [
    "1700%400  #it is not leap year"
   ]
  },
  {
   "cell_type": "code",
   "execution_count": 10,
   "id": "c043d6d9",
   "metadata": {
    "scrolled": true
   },
   "outputs": [
    {
     "data": {
      "text/plain": [
       "0"
      ]
     },
     "execution_count": 10,
     "metadata": {},
     "output_type": "execute_result"
    }
   ],
   "source": [
    "1700%100"
   ]
  },
  {
   "cell_type": "code",
   "execution_count": 2,
   "id": "f5d88ce5",
   "metadata": {},
   "outputs": [
    {
     "name": "stdout",
     "output_type": "stream",
     "text": [
      "0 is smaller no.\n"
     ]
    }
   ],
   "source": [
    "a=0\n",
    "b=2\n",
    "c=12\n",
    "if a<b and a<c:\n",
    "    print(a,\"is smaller no.\")\n",
    "else:\n",
    "    if b<c and b<a:\n",
    "        print(b,\"is smaller no.\")\n",
    "    else:\n",
    "        print(c,\n",
    "              \"is smaller no.\")\n",
    "        \n",
    "    \n",
    "    \n",
    "    "
   ]
  },
  {
   "cell_type": "code",
   "execution_count": null,
   "id": "0e7351ad",
   "metadata": {},
   "outputs": [],
   "source": []
  },
  {
   "cell_type": "code",
   "execution_count": null,
   "id": "42156f4d",
   "metadata": {},
   "outputs": [],
   "source": []
  },
  {
   "cell_type": "code",
   "execution_count": null,
   "id": "8826d465",
   "metadata": {},
   "outputs": [],
   "source": []
  }
 ],
 "metadata": {
  "kernelspec": {
   "display_name": "Python 3 (ipykernel)",
   "language": "python",
   "name": "python3"
  },
  "language_info": {
   "codemirror_mode": {
    "name": "ipython",
    "version": 3
   },
   "file_extension": ".py",
   "mimetype": "text/x-python",
   "name": "python",
   "nbconvert_exporter": "python",
   "pygments_lexer": "ipython3",
   "version": "3.11.5"
  }
 },
 "nbformat": 4,
 "nbformat_minor": 5
}
