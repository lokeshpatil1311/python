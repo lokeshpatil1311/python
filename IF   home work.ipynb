{
 "cells": [
  {
   "cell_type": "markdown",
   "id": "928cad6b",
   "metadata": {},
   "source": [
    "## if\n",
    "\n"
   ]
  },
  {
   "cell_type": "code",
   "execution_count": 17,
   "id": "a3a7329c",
   "metadata": {},
   "outputs": [
    {
     "name": "stdout",
     "output_type": "stream",
     "text": [
      "enter age\n",
      "56\n",
      "Can vote\n"
     ]
    }
   ],
   "source": [
    "print('enter age')\n",
    "d = int(input())\n",
    "if d>18:\n",
    "    print(\"Can vote\")"
   ]
  },
  {
   "cell_type": "code",
   "execution_count": 15,
   "id": "d24f2e87",
   "metadata": {},
   "outputs": [
    {
     "name": "stdout",
     "output_type": "stream",
     "text": [
      "Enter age\n",
      "8\n",
      "cannot vote\n"
     ]
    }
   ],
   "source": [
    "print('Enter age')\n",
    "u = int(input())\n",
    "\n",
    "if u>18:\n",
    "    print(\"can vote\")\n",
    "else:\n",
    "     print('cannot vote')"
   ]
  },
  {
   "cell_type": "code",
   "execution_count": 21,
   "id": "2cf224dd",
   "metadata": {},
   "outputs": [
    {
     "name": "stdout",
     "output_type": "stream",
     "text": [
      "enter your number\n",
      "0\n",
      "The number is zero\n"
     ]
    }
   ],
   "source": [
    "print('enter your number')\n",
    "a  =  int(input())\n",
    "\n",
    "if a>0:\n",
    "    print(\"The number is positive\")\n",
    "elif a<0:\n",
    "    print(\"The number is negative\")\n",
    "else:\n",
    "    print(\"The number is zero\")\n"
   ]
  },
  {
   "cell_type": "code",
   "execution_count": 26,
   "id": "f4984aad",
   "metadata": {},
   "outputs": [
    {
     "name": "stdout",
     "output_type": "stream",
     "text": [
      "both the conditions are true\n"
     ]
    }
   ],
   "source": [
    "t = 150\n",
    "o = 50\n",
    "p = 500\n",
    "\n",
    "if   t > o  and p > t:\n",
    "    print(\"both the conditions are true\")\n",
    "\n"
   ]
  },
  {
   "cell_type": "code",
   "execution_count": 28,
   "id": "2a2c10c1",
   "metadata": {},
   "outputs": [
    {
     "name": "stdout",
     "output_type": "stream",
     "text": [
      "both the conditions are false\n"
     ]
    }
   ],
   "source": [
    "t = 150\n",
    "o = 50\n",
    "p = 500\n",
    "\n",
    "if   t > o  and p > t  and o > t:\n",
    "    print(\"both the conditions are true\")\n",
    "else:\n",
    "    print (\"both the conditions are false\")"
   ]
  },
  {
   "cell_type": "code",
   "execution_count": 30,
   "id": "7dd56cd6",
   "metadata": {},
   "outputs": [
    {
     "name": "stdout",
     "output_type": "stream",
     "text": [
      " false\n"
     ]
    }
   ],
   "source": [
    "t = 150\n",
    "o = 50\n",
    "p = 500\n",
    "\n",
    "if     o > t  or t > p:\n",
    "    print(\" true\")\n",
    "else:\n",
    "    print (\" false\")"
   ]
  },
  {
   "cell_type": "code",
   "execution_count": 31,
   "id": "68bcc08a",
   "metadata": {},
   "outputs": [
    {
     "name": "stdout",
     "output_type": "stream",
     "text": [
      "Enter marks of the first subject 98\n",
      "Enter marks of the second subject 99\n",
      "Enter marks of the third subject 90\n",
      "Enter marks of the fourth subject 87\n",
      "Enter marks of the fifth subject 99\n",
      "Grade A\n"
     ]
    }
   ],
   "source": [
    "sub1=int(input(\"Enter marks of the first subject \"))\n",
    "sub2=int(input(\"Enter marks of the second subject \"))\n",
    "sub3=int(input(\"Enter marks of the third subject \"))\n",
    "sub4=int(input(\"Enter marks of the fourth subject \"))\n",
    "sub5=int(input(\"Enter marks of the fifth subject \"))\n",
    "avg=(sub1+sub2+sub3+sub4+sub5)/5\n",
    "if(avg>=90):\n",
    "    print(\"Grade A\")\n",
    "elif(avg>=80 and avg<=90):\n",
    "    print(\"Grade  B\")\n",
    "elif(avg>=70 and avg <=80):\n",
    "    print(\"Grade  C\")\n",
    "elif(avg>=60 and avg <=70):\n",
    "     print(\"Grade  D\")\n",
    "else:\n",
    "    print(\"Grade F\")"
   ]
  },
  {
   "cell_type": "markdown",
   "id": "0db26f1a",
   "metadata": {},
   "source": [
    "\n",
    "# For loop"
   ]
  },
  {
   "cell_type": "code",
   "execution_count": 34,
   "id": "268bc867",
   "metadata": {},
   "outputs": [
    {
     "name": "stdout",
     "output_type": "stream",
     "text": [
      "lokesh\n",
      "lokesh\n",
      "lokesh\n",
      "lokesh\n",
      "lokesh\n",
      "lokesh\n",
      "lokesh\n",
      "lokesh\n",
      "lokesh\n",
      "lokesh\n"
     ]
    }
   ],
   "source": [
    "for i in range (10):\n",
    "    print('lokesh')"
   ]
  },
  {
   "cell_type": "code",
   "execution_count": 47,
   "id": "dc60cfb4",
   "metadata": {},
   "outputs": [
    {
     "name": "stdout",
     "output_type": "stream",
     "text": [
      "0\n",
      "1\n",
      "2\n",
      "3\n",
      "4\n",
      "5\n",
      "6\n",
      "7\n",
      "8\n",
      "9\n"
     ]
    }
   ],
   "source": [
    "for k in range (10):\n",
    "    print(k)\n",
    "    "
   ]
  },
  {
   "cell_type": "code",
   "execution_count": 48,
   "id": "2587c724",
   "metadata": {},
   "outputs": [
    {
     "name": "stdout",
     "output_type": "stream",
     "text": [
      "10\n",
      "9\n",
      "8\n",
      "7\n",
      "6\n",
      "5\n",
      "4\n",
      "3\n",
      "2\n",
      "1\n"
     ]
    }
   ],
   "source": [
    "for k in range (10,0,-1):\n",
    "    print(k)"
   ]
  },
  {
   "cell_type": "code",
   "execution_count": 52,
   "id": "2a7840e6",
   "metadata": {},
   "outputs": [
    {
     "name": "stdout",
     "output_type": "stream",
     "text": [
      "50\n",
      "45\n",
      "40\n",
      "35\n",
      "30\n",
      "25\n",
      "20\n",
      "15\n",
      "10\n"
     ]
    }
   ],
   "source": [
    "for k in range(50,5,-5):\n",
    "    print(k)"
   ]
  },
  {
   "cell_type": "code",
   "execution_count": 54,
   "id": "522af4fc",
   "metadata": {},
   "outputs": [
    {
     "name": "stdout",
     "output_type": "stream",
     "text": [
      "apple\n",
      "banana\n",
      "cherry\n"
     ]
    }
   ],
   "source": [
    "fruits = ['apple','banana','cherry']\n",
    "\n",
    "for i in fruits:\n",
    "   print(i)"
   ]
  },
  {
   "cell_type": "code",
   "execution_count": 66,
   "id": "b15d2946",
   "metadata": {},
   "outputs": [
    {
     "ename": "TypeError",
     "evalue": "'float' object cannot be interpreted as an integer",
     "output_type": "error",
     "traceback": [
      "\u001b[1;31m---------------------------------------------------------------------------\u001b[0m",
      "\u001b[1;31mTypeError\u001b[0m                                 Traceback (most recent call last)",
      "Cell \u001b[1;32mIn[66], line 1\u001b[0m\n\u001b[1;32m----> 1\u001b[0m \u001b[38;5;28;01mfor\u001b[39;00m k \u001b[38;5;129;01min\u001b[39;00m \u001b[38;5;28mrange\u001b[39m(\u001b[38;5;241m50\u001b[39m\u001b[38;5;241m/\u001b[39m\u001b[38;5;241m2\u001b[39m):\n\u001b[0;32m      2\u001b[0m     \u001b[38;5;28mprint\u001b[39m(k)\n",
      "\u001b[1;31mTypeError\u001b[0m: 'float' object cannot be interpreted as an integer"
     ]
    }
   ],
   "source": [
    "\n",
    "    "
   ]
  },
  {
   "cell_type": "code",
   "execution_count": 3,
   "id": "0d382812",
   "metadata": {},
   "outputs": [
    {
     "name": "stdout",
     "output_type": "stream",
     "text": [
      "b\n",
      "a\n",
      "n\n",
      "a\n",
      "n\n",
      "a\n"
     ]
    }
   ],
   "source": [
    "for x in \"banana\":\n",
    "     print(x)"
   ]
  },
  {
   "cell_type": "code",
   "execution_count": 9,
   "id": "a2dc9ff7",
   "metadata": {},
   "outputs": [
    {
     "name": "stdout",
     "output_type": "stream",
     "text": [
      "2\n",
      "4\n",
      "6\n",
      "8\n",
      "10\n",
      "12\n",
      "14\n",
      "16\n",
      "18\n",
      "20\n"
     ]
    }
   ],
   "source": [
    "for i in range(1,21):\n",
    "    if i%2==0:\n",
    "        print(i)\n",
    "    "
   ]
  },
  {
   "cell_type": "code",
   "execution_count": 11,
   "id": "196a7f1b",
   "metadata": {},
   "outputs": [
    {
     "name": "stdout",
     "output_type": "stream",
     "text": [
      "enter a number:50\n",
      "Sum: 1\n",
      "Sum: 3\n",
      "Sum: 6\n",
      "Sum: 10\n",
      "Sum: 15\n",
      "Sum: 21\n",
      "Sum: 28\n",
      "Sum: 36\n",
      "Sum: 45\n",
      "Sum: 55\n",
      "Sum: 66\n",
      "Sum: 78\n",
      "Sum: 91\n",
      "Sum: 105\n",
      "Sum: 120\n",
      "Sum: 136\n",
      "Sum: 153\n",
      "Sum: 171\n",
      "Sum: 190\n",
      "Sum: 210\n",
      "Sum: 231\n",
      "Sum: 253\n",
      "Sum: 276\n",
      "Sum: 300\n",
      "Sum: 325\n",
      "Sum: 351\n",
      "Sum: 378\n",
      "Sum: 406\n",
      "Sum: 435\n",
      "Sum: 465\n",
      "Sum: 496\n",
      "Sum: 528\n",
      "Sum: 561\n",
      "Sum: 595\n",
      "Sum: 630\n",
      "Sum: 666\n",
      "Sum: 703\n",
      "Sum: 741\n",
      "Sum: 780\n",
      "Sum: 820\n",
      "Sum: 861\n",
      "Sum: 903\n",
      "Sum: 946\n",
      "Sum: 990\n",
      "Sum: 1035\n",
      "Sum: 1081\n",
      "Sum: 1128\n",
      "Sum: 1176\n",
      "Sum: 1225\n",
      "Sum: 1275\n"
     ]
    }
   ],
   "source": [
    "total = 0 #intialize .\n",
    "n = int(input(\"enter a number:\"))\n",
    "for i in range (1,n+1):\n",
    "    total +=i\n",
    "    print(\"Sum:\", total)\n",
    "    \n",
    "    "
   ]
  },
  {
   "cell_type": "markdown",
   "id": "8d42e292",
   "metadata": {},
   "source": [
    "# Nested loop "
   ]
  },
  {
   "cell_type": "code",
   "execution_count": 18,
   "id": "2674edb2",
   "metadata": {},
   "outputs": [
    {
     "name": "stdout",
     "output_type": "stream",
     "text": [
      "1 \n",
      "\n",
      "2 2 \n",
      "\n",
      "3 3 3 \n",
      "\n",
      "4 4 4 4 \n",
      "\n"
     ]
    }
   ],
   "source": [
    "for  i in range(1,5):\n",
    "    for j in range (i):\n",
    "        print(i, end =' ')\n",
    "    print(\"\\n\")\n"
   ]
  },
  {
   "cell_type": "markdown",
   "id": "5b8d76bb",
   "metadata": {},
   "source": [
    "### While loop"
   ]
  },
  {
   "cell_type": "code",
   "execution_count": 20,
   "id": "defafcb5",
   "metadata": {},
   "outputs": [
    {
     "name": "stdout",
     "output_type": "stream",
     "text": [
      "1\n",
      "2\n",
      "3\n",
      "4\n",
      "5\n",
      "6\n",
      "7\n",
      "8\n",
      "9\n",
      "10\n"
     ]
    }
   ],
   "source": [
    "i = 1\n",
    "while i<11:\n",
    "    print(i)\n",
    "    i=i+1"
   ]
  },
  {
   "cell_type": "code",
   "execution_count": 59,
   "id": "39f4d860",
   "metadata": {},
   "outputs": [
    {
     "name": "stdout",
     "output_type": "stream",
     "text": [
      "enter the bill: 500\n",
      "enter the next bill: 500\n",
      "enter the next bill: 800\n",
      "enter the next bill: 0\n",
      "sum of bills is:  1800\n"
     ]
    }
   ],
   "source": [
    "bill=int(input(\"enter the bill: \"))\n",
    "sum1= bill\n",
    "while bill !=0:\n",
    "    bill=int(input(\"enter the next bill: \"))\n",
    "    sum1 = sum1  + bill\n",
    "print(\"sum of bills is: \",sum1)\n"
   ]
  },
  {
   "cell_type": "code",
   "execution_count": 60,
   "id": "4b7a3937",
   "metadata": {},
   "outputs": [
    {
     "name": "stdout",
     "output_type": "stream",
     "text": [
      "Enter voteM\n",
      "Enter voteA\n",
      "Enter voteA\n",
      "Enter voteA\n",
      "Enter voteq\n",
      "alex: 3\n",
      "manu: 1\n"
     ]
    }
   ],
   "source": [
    "vote = \"M\"\n",
    "\n",
    "mcount=0\n",
    "acount=0\n",
    " \n",
    "while vote !=\"q\":\n",
    "    vote = str(input(\"Enter vote\"))\n",
    "    if vote == \"M\":\n",
    "        mcount = mcount + 1\n",
    "    elif vote == \"A\":\n",
    "        acount = acount + 1\n",
    "    \n",
    "print(\"alex:\",acount)\n",
    "print(\"manu:\",mcount)\n"
   ]
  },
  {
   "cell_type": "code",
   "execution_count": null,
   "id": "055d8c13",
   "metadata": {},
   "outputs": [],
   "source": []
  }
 ],
 "metadata": {
  "kernelspec": {
   "display_name": "Python 3 (ipykernel)",
   "language": "python",
   "name": "python3"
  },
  "language_info": {
   "codemirror_mode": {
    "name": "ipython",
    "version": 3
   },
   "file_extension": ".py",
   "mimetype": "text/x-python",
   "name": "python",
   "nbconvert_exporter": "python",
   "pygments_lexer": "ipython3",
   "version": "3.11.5"
  }
 },
 "nbformat": 4,
 "nbformat_minor": 5
}
